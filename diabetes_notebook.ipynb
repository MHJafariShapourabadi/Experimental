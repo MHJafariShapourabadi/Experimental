{
 "cells": [
  {
   "cell_type": "code",
   "execution_count": 1,
   "metadata": {},
   "outputs": [],
   "source": [
    "import numpy as np \n",
    "from sklearn.linear_model import LinearRegression, Ridge, RidgeCV, Lasso, LassoCV\n",
    "from sklearn import datasets\n",
    "from sklearn.model_selection import train_test_split\n",
    "from sklearn.metrics import mean_absolute_error, mean_squared_error, root_mean_squared_error\n",
    "import matplotlib.pyplot as plt"
   ]
  },
  {
   "cell_type": "code",
   "execution_count": 2,
   "metadata": {},
   "outputs": [
    {
     "name": "stdout",
     "output_type": "stream",
     "text": [
      "(442, 10)\n",
      "(442,)\n"
     ]
    }
   ],
   "source": [
    "data = datasets.load_diabetes()\n",
    "X = data.get('data')\n",
    "y = data.get('target')\n",
    "print(X.shape)\n",
    "print(y.shape)"
   ]
  },
  {
   "cell_type": "code",
   "execution_count": 3,
   "metadata": {},
   "outputs": [],
   "source": [
    "# Normalizing acording to the Dataset description\n",
    "# It is already normalized, doing it again for demonstration\n",
    "mean = np.mean(X, axis=0, keepdims=True)\n",
    "std = np.std(X, axis=0, keepdims=True)\n",
    "\n",
    "X = X - mean\n",
    "X = X / std\n",
    "sumsquare = np.sqrt(np.sum(np.power(X, 2), axis=0, keepdims=True))\n",
    "X = X / sumsquare"
   ]
  },
  {
   "cell_type": "code",
   "execution_count": 4,
   "metadata": {},
   "outputs": [
    {
     "name": "stdout",
     "output_type": "stream",
     "text": [
      "(353, 10)\n",
      "(353,)\n",
      "(89, 10)\n",
      "(89,)\n"
     ]
    }
   ],
   "source": [
    "X_train, X_test, y_train, y_test = train_test_split(X, y, test_size=0.2)\n",
    "print(X_train.shape)\n",
    "print(y_train.shape)\n",
    "print(X_test.shape)\n",
    "print(y_test.shape)"
   ]
  },
  {
   "cell_type": "code",
   "execution_count": 5,
   "metadata": {},
   "outputs": [
    {
     "name": "stdout",
     "output_type": "stream",
     "text": [
      "\n",
      "Linear Regression\n",
      "train:\n",
      "    MAE: 41.79811499032686\n",
      "    MSE: 2733.492158982733\n",
      "    RMSE: 52.28280940216137\n",
      "test:\n",
      "    MAE: 49.62081663218962\n",
      "    MSE: 3479.9473935773344\n",
      "    RMSE: 58.9910789321346\n",
      "\n"
     ]
    }
   ],
   "source": [
    "linear_regression = LinearRegression()\n",
    "linear_regression.fit(X_train, y_train)\n",
    "\n",
    "pred_train = linear_regression.predict(X_train)\n",
    "pred_test = linear_regression.predict(X_test)\n",
    "\n",
    "train_MAE = mean_absolute_error(y_train, pred_train)\n",
    "test_MAE = mean_absolute_error(y_test, pred_test)\n",
    "\n",
    "train_MSE = mean_squared_error(y_train, pred_train)\n",
    "test_MSE = mean_squared_error(y_test, pred_test)\n",
    "\n",
    "train_RMSE = root_mean_squared_error(y_train, pred_train)\n",
    "test_RMSE = root_mean_squared_error(y_test, pred_test)\n",
    "\n",
    "answer = f\"\"\"\n",
    "Linear Regression\n",
    "train:\n",
    "    MAE: {train_MAE}\n",
    "    MSE: {train_MSE}\n",
    "    RMSE: {train_RMSE}\n",
    "test:\n",
    "    MAE: {test_MAE}\n",
    "    MSE: {test_MSE}\n",
    "    RMSE: {test_RMSE}\n",
    "\"\"\"\n",
    "print(answer)"
   ]
  },
  {
   "cell_type": "code",
   "execution_count": 6,
   "metadata": {},
   "outputs": [
    {
     "name": "stdout",
     "output_type": "stream",
     "text": [
      "\n",
      "Ridge Regression\n",
      "train:\n",
      "    MAE: 42.23247938416423\n",
      "    MSE: 2759.1521976775502\n",
      "    RMSE: 52.52763270582018\n",
      "test:\n",
      "    MAE: 50.241023999256214\n",
      "    MSE: 3579.0575832792833\n",
      "    RMSE: 59.82522530905574\n",
      "\n"
     ]
    }
   ],
   "source": [
    "ridge_regression = RidgeCV()\n",
    "ridge_regression.fit(X_train, y_train)\n",
    "\n",
    "pred_train = ridge_regression.predict(X_train)\n",
    "pred_test = ridge_regression.predict(X_test)\n",
    "\n",
    "train_MAE = mean_absolute_error(y_train, pred_train)\n",
    "test_MAE = mean_absolute_error(y_test, pred_test)\n",
    "\n",
    "train_MSE = mean_squared_error(y_train, pred_train)\n",
    "test_MSE = mean_squared_error(y_test, pred_test)\n",
    "\n",
    "train_RMSE = root_mean_squared_error(y_train, pred_train)\n",
    "test_RMSE = root_mean_squared_error(y_test, pred_test)\n",
    "\n",
    "answer = f\"\"\"\n",
    "Ridge Regression\n",
    "train:\n",
    "    MAE: {train_MAE}\n",
    "    MSE: {train_MSE}\n",
    "    RMSE: {train_RMSE}\n",
    "test:\n",
    "    MAE: {test_MAE}\n",
    "    MSE: {test_MSE}\n",
    "    RMSE: {test_RMSE}\n",
    "\"\"\"\n",
    "print(answer)"
   ]
  },
  {
   "cell_type": "code",
   "execution_count": 7,
   "metadata": {},
   "outputs": [
    {
     "name": "stdout",
     "output_type": "stream",
     "text": [
      "\n",
      "Lasso Regression\n",
      "train:\n",
      "    MAE: 41.81290440952223\n",
      "    MSE: 2737.5685281226747\n",
      "    RMSE: 52.3217787171143\n",
      "test:\n",
      "    MAE: 49.80126097749174\n",
      "    MSE: 3503.817517326322\n",
      "    RMSE: 59.19305294818238\n",
      "\n"
     ]
    }
   ],
   "source": [
    "lasso_regression = LassoCV()\n",
    "lasso_regression.fit(X_train, y_train)\n",
    "\n",
    "pred_train = lasso_regression.predict(X_train)\n",
    "pred_test = lasso_regression.predict(X_test)\n",
    "\n",
    "train_MAE = mean_absolute_error(y_train, pred_train)\n",
    "test_MAE = mean_absolute_error(y_test, pred_test)\n",
    "\n",
    "train_MSE = mean_squared_error(y_train, pred_train)\n",
    "test_MSE = mean_squared_error(y_test, pred_test)\n",
    "\n",
    "train_RMSE = root_mean_squared_error(y_train, pred_train)\n",
    "test_RMSE = root_mean_squared_error(y_test, pred_test)\n",
    "\n",
    "answer = f\"\"\"\n",
    "Lasso Regression\n",
    "train:\n",
    "    MAE: {train_MAE}\n",
    "    MSE: {train_MSE}\n",
    "    RMSE: {train_RMSE}\n",
    "test:\n",
    "    MAE: {test_MAE}\n",
    "    MSE: {test_MSE}\n",
    "    RMSE: {test_RMSE}\n",
    "\"\"\"\n",
    "print(answer)"
   ]
  },
  {
   "cell_type": "code",
   "execution_count": null,
   "metadata": {},
   "outputs": [],
   "source": []
  }
 ],
 "metadata": {
  "kernelspec": {
   "display_name": "ailab",
   "language": "python",
   "name": "python3"
  },
  "language_info": {
   "codemirror_mode": {
    "name": "ipython",
    "version": 3
   },
   "file_extension": ".py",
   "mimetype": "text/x-python",
   "name": "python",
   "nbconvert_exporter": "python",
   "pygments_lexer": "ipython3",
   "version": "3.10.13"
  }
 },
 "nbformat": 4,
 "nbformat_minor": 2
}
